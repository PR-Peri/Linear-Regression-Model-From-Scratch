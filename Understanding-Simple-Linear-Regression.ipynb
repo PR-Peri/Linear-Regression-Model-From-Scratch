{
 "cells": [
  {
   "cell_type": "markdown",
   "id": "91d61d72-b34e-44d5-92eb-abeb2f509176",
   "metadata": {},
   "source": [
    "# Simple Linear Regression using Sci-kit Library"
   ]
  },
  {
   "cell_type": "code",
   "execution_count": 17,
   "id": "bbc883b6-9eeb-4290-b492-a08bd047f857",
   "metadata": {},
   "outputs": [
    {
     "name": "stdout",
     "output_type": "stream",
     "text": [
      "Dataset:\n",
      " Area  Price\n",
      " 1000    250\n",
      " 1500    400\n",
      " 2000    450\n",
      " 2500    500\n",
      " 3000    550\n",
      "\n",
      "Regression Equation: ŷ = 150.00 + 0.14x\n",
      "\n",
      "Predictions and Residuals:\n",
      " Area  Price  ŷ (Predicted Price)     Residuals\n",
      " 1000    250                290.0 -4.000000e+01\n",
      " 1500    400                360.0  4.000000e+01\n",
      " 2000    450                430.0  2.000000e+01\n",
      " 2500    500                500.0 -5.684342e-14\n",
      " 3000    550                570.0 -2.000000e+01\n",
      "\n",
      "Model Performance Metrics:\n",
      " RSS  (Residual Sum of Squares):      4000.00\n",
      " MSE  (Mean Squared Error):           800.00\n",
      " RMSE (Root Mean Squared Error):      28.28\n",
      " R²   (Coefficient of Determination): 0.9245\n",
      "\n"
     ]
    }
   ],
   "source": [
    "# ----------------------------------------------------------\n",
    "# 📘 Simple Linear Regression using scikit-learn\n",
    "# ----------------------------------------------------------\n",
    "# We will use scikit-learn's LinearRegression to fit\n",
    "# the housing dataset: Area (x) vs Price (y).\n",
    "# ----------------------------------------------------------\n",
    "\n",
    "import numpy as np\n",
    "import pandas as pd\n",
    "import matplotlib.pyplot as plt\n",
    "from sklearn.linear_model import LinearRegression\n",
    "from sklearn.metrics import mean_squared_error, r2_score\n",
    "\n",
    "# ----------------------------------------------------------\n",
    "# Step 1: Define the dataset\n",
    "# ----------------------------------------------------------\n",
    "data = {\n",
    "    \"Area\": [1000, 1500, 2000, 2500, 3000],\n",
    "    \"Price\": [250, 400, 450, 500, 550]\n",
    "}\n",
    "df = pd.DataFrame(data)\n",
    "\n",
    "print(\"Dataset:\")\n",
    "print(df.to_string(index=False))\n",
    "print()\n",
    "\n",
    "# ----------------------------------------------------------\n",
    "# Step 2: Prepare X and y for sklearn\n",
    "# ----------------------------------------------------------\n",
    "X = df[[\"Area\"]]   # independent variable (2D)\n",
    "y = df[\"Price\"]    # dependent variable (1D)\n",
    "\n",
    "# ----------------------------------------------------------\n",
    "# Step 3: Fit the Linear Regression model\n",
    "# ----------------------------------------------------------\n",
    "model = LinearRegression()\n",
    "model.fit(X, y)\n",
    "\n",
    "# Get slope (coef_) and intercept\n",
    "beta1 = model.coef_[0]\n",
    "beta0 = model.intercept_\n",
    "\n",
    "print(f\"Regression Equation: ŷ = {beta0:.2f} + {beta1:.2f}x\\n\")\n",
    "\n",
    "# ----------------------------------------------------------\n",
    "# Step 4: Predictions\n",
    "# ----------------------------------------------------------\n",
    "df[\"ŷ (Predicted Price)\"] = model.predict(X)\n",
    "df[\"Residuals\"] = y - df[\"ŷ (Predicted Price)\"]\n",
    "\n",
    "print(\"Predictions and Residuals:\")\n",
    "print(df.to_string(index=False))\n",
    "print()\n",
    "\n",
    "# ----------------------------------------------------------\n",
    "# Step 5: Error metrics\n",
    "# ----------------------------------------------------------\n",
    "RSS = np.sum(df[\"Residuals\"]**2)             # Residual Sum of Squares\n",
    "MSE = mean_squared_error(y, df[\"ŷ (Predicted Price)\"])\n",
    "RMSE = np.sqrt(MSE)\n",
    "R2 = r2_score(y, df[\"ŷ (Predicted Price)\"])\n",
    "\n",
    "print(\"Model Performance Metrics:\")\n",
    "print(f\" RSS  (Residual Sum of Squares):      {RSS:.2f}\")\n",
    "print(f\" MSE  (Mean Squared Error):           {MSE:.2f}\")\n",
    "print(f\" RMSE (Root Mean Squared Error):      {RMSE:.2f}\")\n",
    "print(f\" R²   (Coefficient of Determination): {R2:.4f}\\n\")"
   ]
  },
  {
   "cell_type": "code",
   "execution_count": null,
   "id": "53cf5fe6-17dd-428b-83a1-6d128dc55589",
   "metadata": {},
   "outputs": [],
   "source": []
  },
  {
   "cell_type": "code",
   "execution_count": null,
   "id": "a84d8dea-d3fc-4f19-b97e-8a4f52aa2bfa",
   "metadata": {},
   "outputs": [],
   "source": []
  },
  {
   "cell_type": "code",
   "execution_count": null,
   "id": "bb34a33e-9041-44d5-a465-e22b60df55fd",
   "metadata": {},
   "outputs": [],
   "source": []
  },
  {
   "cell_type": "markdown",
   "id": "809d6d7d-9f85-4d5a-84a9-e9fc5256e14b",
   "metadata": {},
   "source": [
    "# Simple Linear Regression from Scratch\n",
    "\n",
    "We will build a simple linear regression model step by step using **only Python (NumPy & Pandas)**, not sklearn/statsmodels.\n",
    "\n",
    "Dataset: **House Area (x)** vs **House Price (y)**\n",
    "\n",
    "### Steps:\n",
    "1. Dataset setup  \n",
    "2. Mean calculations  \n",
    "3. Deviation table  \n",
    "4. Slope & Intercept derivation  \n",
    "5. Regression equation  \n",
    "6. Predictions & Residuals  \n",
    "7. Error metrics (RSS, MSE, RMSE, R²)  \n",
    "8. Visualization  "
   ]
  },
  {
   "cell_type": "code",
   "execution_count": 3,
   "id": "8d106ab2-a19f-4e63-8b67-76cd7fcc7417",
   "metadata": {},
   "outputs": [],
   "source": [
    "import numpy as np\n",
    "import pandas as pd\n",
    "import matplotlib.pyplot as plt"
   ]
  },
  {
   "cell_type": "markdown",
   "id": "3ac48b92-aadb-4443-b7ad-e173755fb3be",
   "metadata": {},
   "source": [
    "## Step 1: Define the dataset\n",
    "\n",
    "We are given the following dataset:\n",
    "\n",
    "| Area (sq ft) | Price ($1000s) |\n",
    "|--------------|----------------|\n",
    "| 1000         | 250            |\n",
    "| 1500         | 400            |\n",
    "| 2000         | 450            |\n",
    "| 2500         | 500            |\n",
    "| 3000         | 550            |"
   ]
  },
  {
   "cell_type": "code",
   "execution_count": 5,
   "id": "801bbdfe-9e34-4168-a015-cb25d23283ae",
   "metadata": {},
   "outputs": [
    {
     "name": "stdout",
     "output_type": "stream",
     "text": [
      "📊 Dataset:\n",
      " Area  Price\n",
      " 1000    250\n",
      " 1500    400\n",
      " 2000    450\n",
      " 2500    500\n",
      " 3000    550\n"
     ]
    }
   ],
   "source": [
    "data = {\n",
    "    \"Area\": [1000, 1500, 2000, 2500, 3000],\n",
    "    \"Price\": [250, 400, 450, 500, 550]\n",
    "}\n",
    "df = pd.DataFrame(data)\n",
    "print(\"📊 Dataset:\")\n",
    "print(df.to_string(index=False))"
   ]
  },
  {
   "cell_type": "markdown",
   "id": "8f96df6e-9773-4ec2-88a0-111d80a364a6",
   "metadata": {},
   "source": [
    "## Step 2: Compute the means of x and y\n",
    "\n",
    "The formulas are:  \n",
    "\n",
    "$$\n",
    "\\bar{x} = \\frac{\\sum x}{n}, \\quad \\bar{y} = \\frac{\\sum y}{n}\n",
    "$$"
   ]
  },
  {
   "cell_type": "code",
   "execution_count": 7,
   "id": "ad7b6040-0b62-4f40-a4ff-9aec00c65efd",
   "metadata": {},
   "outputs": [
    {
     "name": "stdout",
     "output_type": "stream",
     "text": [
      "Mean of Area (x̄): 2000.00\n",
      "Mean of Price (ȳ): 430.00\n"
     ]
    }
   ],
   "source": [
    "x = df[\"Area\"].values\n",
    "y = df[\"Price\"].values\n",
    "\n",
    "x_mean = np.mean(x)\n",
    "y_mean = np.mean(y)\n",
    "\n",
    "print(f\"Mean of Area (x̄): {x_mean:.2f}\")\n",
    "print(f\"Mean of Price (ȳ): {y_mean:.2f}\")"
   ]
  },
  {
   "cell_type": "markdown",
   "id": "1acb64e8-0426-40c5-97e2-635bc7881bf2",
   "metadata": {},
   "source": [
    "## Step 3: Build the deviation table\n",
    "\n",
    "For each point, compute:\n",
    "\n",
    "$$ (x - \\bar{x}) $$\n",
    "$$ (y - \\bar{y}) $$\n",
    "$$ ((x - \\bar{x})(y - \\bar{y})) $$\n",
    "$$ ((x - \\bar{x})^2) $$"
   ]
  },
  {
   "cell_type": "code",
   "execution_count": 9,
   "id": "eedc674d-9cc9-46f5-bbbe-25be08f58209",
   "metadata": {},
   "outputs": [
    {
     "name": "stdout",
     "output_type": "stream",
     "text": [
      "📝 Deviation Table:\n",
      " Area  Price  x - x̄  y - ȳ  (x - x̄)(y - ȳ)  (x - x̄)^2\n",
      " 1000    250 -1000.0 -180.0         180000.0   1000000.0\n",
      " 1500    400  -500.0  -30.0          15000.0    250000.0\n",
      " 2000    450     0.0   20.0              0.0         0.0\n",
      " 2500    500   500.0   70.0          35000.0    250000.0\n",
      " 3000    550  1000.0  120.0         120000.0   1000000.0\n"
     ]
    }
   ],
   "source": [
    "df[\"x - x̄\"] = x - x_mean\n",
    "df[\"y - ȳ\"] = y - y_mean\n",
    "df[\"(x - x̄)(y - ȳ)\"] = df[\"x - x̄\"] * df[\"y - ȳ\"]\n",
    "df[\"(x - x̄)^2\"] = df[\"x - x̄\"] ** 2\n",
    "\n",
    "print(\"📝 Deviation Table:\")\n",
    "print(df.to_string(index=False))"
   ]
  },
  {
   "cell_type": "markdown",
   "id": "2ffe36c9-7a3d-4296-b716-97199f9e69d6",
   "metadata": {},
   "source": [
    "## Step 4: Calculate slope (β₁) and intercept (β₀)\n",
    "\n",
    "Formulas:  \n",
    "\n",
    "$$\n",
    "\\hat{\\beta}_1 = \\frac{\\sum (x - \\bar{x})(y - \\bar{y})}{\\sum (x - \\bar{x})^2}\n",
    "$$  \n",
    "\n",
    "$$\n",
    "\\hat{\\beta}_0 = \\bar{y} - \\hat{\\beta}_1 \\bar{x}\n",
    "$$  "
   ]
  },
  {
   "cell_type": "code",
   "execution_count": 11,
   "id": "51cc4e56-b9ee-4acb-a226-a28778de263a",
   "metadata": {},
   "outputs": [
    {
     "name": "stdout",
     "output_type": "stream",
     "text": [
      "Slope (β₁): 0.1400\n",
      "Intercept (β₀): 150.0000\n"
     ]
    }
   ],
   "source": [
    "num = df[\"(x - x̄)(y - ȳ)\"].sum()\n",
    "den = df[\"(x - x̄)^2\"].sum()\n",
    "\n",
    "beta1 = num / den\n",
    "beta0 = y_mean - beta1 * x_mean\n",
    "\n",
    "print(f\"Slope (β₁): {beta1:.4f}\")\n",
    "print(f\"Intercept (β₀): {beta0:.4f}\")"
   ]
  },
  {
   "cell_type": "markdown",
   "id": "22c561af-be64-4a59-884d-55d00bf80e63",
   "metadata": {},
   "source": [
    "## Step 5: Regression equation\n",
    "\n",
    "The regression line is:\n",
    "\n",
    "$$\n",
    "\\hat{y} = \\hat{\\beta}_0 + \\hat{\\beta}_1 x\n",
    "$$"
   ]
  },
  {
   "cell_type": "code",
   "execution_count": 13,
   "id": "3561b0dc-ed6e-4783-8336-c9bb69cfa538",
   "metadata": {},
   "outputs": [
    {
     "name": "stdout",
     "output_type": "stream",
     "text": [
      " Regression Equation: ŷ = 150.00 + 0.14x\n"
     ]
    }
   ],
   "source": [
    "print(f\" Regression Equation: ŷ = {beta0:.2f} + {beta1:.2f}x\")"
   ]
  },
  {
   "cell_type": "markdown",
   "id": "0798c34a-bc1d-49fb-bb6e-9e958a3a8407",
   "metadata": {},
   "source": [
    "## Step 6: Predictions and Residuals\n",
    "\n",
    "We calculate:  \n",
    "\n",
    "- Predicted values:  \n",
    "$$\n",
    "\\hat{y} = \\beta_0 + \\beta_1 x\n",
    "$$  \n",
    "\n",
    "- Residuals:  \n",
    "$$\n",
    "e = y - \\hat{y}\n",
    "$$  "
   ]
  },
  {
   "cell_type": "code",
   "execution_count": 15,
   "id": "0b6912b1-8617-45cb-a88a-03087965ef70",
   "metadata": {},
   "outputs": [
    {
     "name": "stdout",
     "output_type": "stream",
     "text": [
      "🔮 Predictions and Residuals:\n",
      " Area  Price  ŷ (Predicted Price)     Residuals\n",
      " 1000    250                290.0 -4.000000e+01\n",
      " 1500    400                360.0  4.000000e+01\n",
      " 2000    450                430.0  2.000000e+01\n",
      " 2500    500                500.0 -5.684342e-14\n",
      " 3000    550                570.0 -2.000000e+01\n"
     ]
    }
   ],
   "source": [
    "df[\"ŷ (Predicted Price)\"] = beta0 + beta1 * df[\"Area\"]\n",
    "df[\"Residuals\"] = df[\"Price\"] - df[\"ŷ (Predicted Price)\"]\n",
    "\n",
    "print(\"🔮 Predictions and Residuals:\")\n",
    "print(df[[\"Area\",\"Price\",\"ŷ (Predicted Price)\",\"Residuals\"]].to_string(index=False))"
   ]
  },
  {
   "cell_type": "markdown",
   "id": "5b75d35e-ade9-49a5-8de0-45d0ed17db46",
   "metadata": {},
   "source": [
    "## Step 7: Error metrics\n",
    "\n",
    "- Residual Sum of Squares (RSS):  \n",
    "$$\n",
    "RSS = \\sum (y - \\hat{y})^2\n",
    "$$  \n",
    "\n",
    "- Mean Squared Error (MSE):  \n",
    "$$\n",
    "MSE = \\frac{RSS}{n}\n",
    "$$  \n",
    "\n",
    "- Root Mean Squared Error (RMSE):  \n",
    "$$\n",
    "RMSE = \\sqrt{MSE}\n",
    "$$  \n",
    "\n",
    "- Coefficient of Determination (R²):  \n",
    "$$\n",
    "R^2 = 1 - \\frac{RSS}{TSS}, \\quad TSS = \\sum (y - \\bar{y})^2\n",
    "$$  "
   ]
  },
  {
   "cell_type": "code",
   "execution_count": 17,
   "id": "6ce6d750-0ced-4ec4-84e8-7bce3d0a7ee4",
   "metadata": {},
   "outputs": [
    {
     "name": "stdout",
     "output_type": "stream",
     "text": [
      "RSS  (Residual Sum of Squares): 4000.00\n",
      "MSE  (Mean Squared Error):      800.00\n",
      "RMSE (Root Mean Squared Error): 28.28\n",
      "R²   (Coefficient of Determination): 0.9245\n"
     ]
    }
   ],
   "source": [
    "RSS = (df[\"Residuals\"] ** 2).sum()\n",
    "TSS = ((y - y_mean) ** 2).sum()\n",
    "MSE = RSS / len(df)\n",
    "RMSE = np.sqrt(MSE)\n",
    "R2 = 1 - (RSS / TSS)\n",
    "\n",
    "print(f\"RSS  (Residual Sum of Squares): {RSS:.2f}\")\n",
    "print(f\"MSE  (Mean Squared Error):      {MSE:.2f}\")\n",
    "print(f\"RMSE (Root Mean Squared Error): {RMSE:.2f}\")\n",
    "print(f\"R²   (Coefficient of Determination): {R2:.4f}\")"
   ]
  },
  {
   "cell_type": "markdown",
   "id": "b6e4d5ad-68d4-4e01-b0d3-8ff2d5330790",
   "metadata": {},
   "source": [
    "## Step 8: Plot regression line"
   ]
  },
  {
   "cell_type": "code",
   "execution_count": 19,
   "id": "5a96e449-c93f-42a0-9871-a8e4a32a7b39",
   "metadata": {},
   "outputs": [
    {
     "data": {
      "image/png": "[encoded data removed]",
      "text/plain": [
       "<Figure size 800x600 with 1 Axes>"
      ]
     },
     "metadata": {},
     "output_type": "display_data"
    }
   ],
   "source": [
    "plt.figure(figsize=(8,6))\n",
    "plt.scatter(x, y, color=\"blue\", label=\"Data points\")\n",
    "plt.plot(x, beta0 + beta1*x, color=\"red\", label=\"Regression line\")\n",
    "plt.xlabel(\"Area (sq ft)\")\n",
    "plt.ylabel(\"Price ($1000s)\")\n",
    "plt.title(\"Simple Linear Regression (from scratch)\")\n",
    "plt.legend()\n",
    "plt.grid(True)\n",
    "plt.show()"
   ]
  },
  {
   "cell_type": "markdown",
   "id": "2cd4a1fe-083d-4755-8951-9cf8552b2e58",
   "metadata": {},
   "source": [
    "## Step 9: Residual plot\n",
    "Residuals should be scattered randomly around zero."
   ]
  },
  {
   "cell_type": "code",
   "execution_count": 21,
   "id": "2f7ab284-cae6-45d2-abf2-84f7421f2468",
   "metadata": {},
   "outputs": [
    {
     "data": {
      "image/png": "[encoded data removed]",
      "text/plain": [
       "<Figure size 800x600 with 1 Axes>"
      ]
     },
     "metadata": {},
     "output_type": "display_data"
    }
   ],
   "source": [
    "plt.figure(figsize=(8,6))\n",
    "plt.scatter(x, df[\"Residuals\"], color=\"purple\")\n",
    "plt.axhline(y=0, color=\"black\", linestyle=\"--\")\n",
    "plt.xlabel(\"Area (sq ft)\")\n",
    "plt.ylabel(\"Residuals\")\n",
    "plt.title(\"Residual Plot\")\n",
    "plt.grid(True)\n",
    "plt.show()"
   ]
  }
 ],
 "metadata": {
  "kernelspec": {
   "display_name": "Python 3 (ipykernel)",
   "language": "python",
   "name": "python3"
  },
  "language_info": {
   "codemirror_mode": {
    "name": "ipython",
    "version": 3
   },
   "file_extension": ".py",
   "mimetype": "text/x-python",
   "name": "python",
   "nbconvert_exporter": "python",
   "pygments_lexer": "ipython3",
   "version": "3.10.14"
  }
 },
 "nbformat": 4,
 "nbformat_minor": 5
}
