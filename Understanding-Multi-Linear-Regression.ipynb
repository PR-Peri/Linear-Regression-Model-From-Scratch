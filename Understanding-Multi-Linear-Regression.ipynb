{
 "cells": [
  {
   "cell_type": "markdown",
   "id": "90ce49ae",
   "metadata": {},
   "source": [
    "# Multiple Linear Regression (Manual Calculation VS Scikit-Learn Lib)"
   ]
  },
  {
   "cell_type": "markdown",
   "id": "1db167cb-a41b-4f9d-b3ec-33039ff7bf5d",
   "metadata": {},
   "source": [
    "\n",
    "In this notebook, we will learn **Simple Linear Regression** in two ways:  \n",
    "\n",
    "1. **From Scratch** – implementing formulas step by step.  \n",
    "2. **With Scikit-learn** – using Python’s machine learning library.  "
   ]
  },
  {
   "cell_type": "markdown",
   "id": "091f38da",
   "metadata": {},
   "source": [
    "## 1. Dataset\n",
    "\n",
    "We use the same housing example with two predictors (area and bedrooms) and one response (price):\n",
    "\n",
    "| House | Area (x₁) | Bedrooms (x₂) | Price (y) |\n",
    "|---:|---:|---:|---:|\n",
    "| 1 | 1000 | 2 | 250 |\n",
    "| 2 | 1500 | 3 | 400 |\n",
    "| 3 | 2000 | 4 | 450 |\n",
    "| 4 | 2500 | 3 | 500 |\n",
    "| 5 | 3000 | 5 | 550 |"
   ]
  },
  {
   "cell_type": "code",
   "execution_count": 4,
   "id": "9cbe830b",
   "metadata": {},
   "outputs": [
    {
     "data": {
      "text/html": [
       "<div>\n",
       "<style scoped>\n",
       "    .dataframe tbody tr th:only-of-type {\n",
       "        vertical-align: middle;\n",
       "    }\n",
       "\n",
       "    .dataframe tbody tr th {\n",
       "        vertical-align: top;\n",
       "    }\n",
       "\n",
       "    .dataframe thead th {\n",
       "        text-align: right;\n",
       "    }\n",
       "</style>\n",
       "<table border=\"1\" class=\"dataframe\">\n",
       "  <thead>\n",
       "    <tr style=\"text-align: right;\">\n",
       "      <th></th>\n",
       "      <th>x1_area</th>\n",
       "      <th>x2_bedrooms</th>\n",
       "      <th>y_price</th>\n",
       "    </tr>\n",
       "  </thead>\n",
       "  <tbody>\n",
       "    <tr>\n",
       "      <th>0</th>\n",
       "      <td>1000</td>\n",
       "      <td>2</td>\n",
       "      <td>250</td>\n",
       "    </tr>\n",
       "    <tr>\n",
       "      <th>1</th>\n",
       "      <td>1500</td>\n",
       "      <td>3</td>\n",
       "      <td>400</td>\n",
       "    </tr>\n",
       "    <tr>\n",
       "      <th>2</th>\n",
       "      <td>2000</td>\n",
       "      <td>4</td>\n",
       "      <td>450</td>\n",
       "    </tr>\n",
       "    <tr>\n",
       "      <th>3</th>\n",
       "      <td>2500</td>\n",
       "      <td>3</td>\n",
       "      <td>500</td>\n",
       "    </tr>\n",
       "    <tr>\n",
       "      <th>4</th>\n",
       "      <td>3000</td>\n",
       "      <td>5</td>\n",
       "      <td>550</td>\n",
       "    </tr>\n",
       "  </tbody>\n",
       "</table>\n",
       "</div>"
      ],
      "text/plain": [
       "   x1_area  x2_bedrooms  y_price\n",
       "0     1000            2      250\n",
       "1     1500            3      400\n",
       "2     2000            4      450\n",
       "3     2500            3      500\n",
       "4     3000            5      550"
      ]
     },
     "execution_count": 4,
     "metadata": {},
     "output_type": "execute_result"
    }
   ],
   "source": [
    "import numpy as np\n",
    "import pandas as pd\n",
    "from sklearn.linear_model import LinearRegression\n",
    "from sklearn.metrics import mean_squared_error, r2_score\n",
    "\n",
    "data = {\n",
    "    'x1_area': [1000, 1500, 2000, 2500, 3000],\n",
    "    'x2_bedrooms': [2, 3, 4, 3, 5],\n",
    "    'y_price': [250, 400, 450, 500, 550]\n",
    "}\n",
    "df = pd.DataFrame(data)\n",
    "df"
   ]
  },
  {
   "cell_type": "markdown",
   "id": "ec6269a0-3989-4420-9bae-3a47421f2db3",
   "metadata": {},
   "source": [
    "## 2. Simple Linear Regression from Scratch"
   ]
  },
  {
   "cell_type": "markdown",
   "id": "b958b89e",
   "metadata": {},
   "source": [
    "## Step 1 — Compute sample means\n",
    "\n",
    "Calculate sample means:\n",
    "$$\\bar{x}_1 = \\frac{1}{n}\\sum_{i=1}^n x_{1i},\\qquad \\bar{x}_2 = \\frac{1}{n}\\sum_{i=1}^n x_{2i},\\qquad \\bar{y} = \\frac{1}{n}\\sum_{i=1}^n y_i$$"
   ]
  },
  {
   "cell_type": "code",
   "execution_count": 7,
   "id": "388451f1",
   "metadata": {},
   "outputs": [
    {
     "data": {
      "text/plain": [
       "(2000.0, 3.4, 430.0)"
      ]
     },
     "execution_count": 7,
     "metadata": {},
     "output_type": "execute_result"
    }
   ],
   "source": [
    "x1 = df['x1_area']\n",
    "x2 = df['x2_bedrooms']\n",
    "y = df['y_price']\n",
    "\n",
    "x1_bar = x1.mean()\n",
    "x2_bar = x2.mean()\n",
    "y_bar = y.mean()\n",
    "\n",
    "x1_bar, x2_bar, y_bar"
   ]
  },
  {
   "cell_type": "markdown",
   "id": "54c34de0",
   "metadata": {},
   "source": [
    "## Step 2 — Deviations (show table)\n",
    "\n",
    "Compute deviations:\n",
    "$$x_{1i}' = x_{1i} - \\bar{x}_1,\\qquad x_{2i}' = x_{2i} - \\bar{x}_2,\\qquad y_i' = y_i - \\bar{y}$$"
   ]
  },
  {
   "cell_type": "code",
   "execution_count": 9,
   "id": "2a158702",
   "metadata": {},
   "outputs": [
    {
     "data": {
      "text/html": [
       "<div>\n",
       "<style scoped>\n",
       "    .dataframe tbody tr th:only-of-type {\n",
       "        vertical-align: middle;\n",
       "    }\n",
       "\n",
       "    .dataframe tbody tr th {\n",
       "        vertical-align: top;\n",
       "    }\n",
       "\n",
       "    .dataframe thead th {\n",
       "        text-align: right;\n",
       "    }\n",
       "</style>\n",
       "<table border=\"1\" class=\"dataframe\">\n",
       "  <thead>\n",
       "    <tr style=\"text-align: right;\">\n",
       "      <th></th>\n",
       "      <th>x1_area</th>\n",
       "      <th>x2_bedrooms</th>\n",
       "      <th>y_price</th>\n",
       "      <th>x1_prime</th>\n",
       "      <th>x2_prime</th>\n",
       "      <th>y_prime</th>\n",
       "    </tr>\n",
       "  </thead>\n",
       "  <tbody>\n",
       "    <tr>\n",
       "      <th>0</th>\n",
       "      <td>1000</td>\n",
       "      <td>2</td>\n",
       "      <td>250</td>\n",
       "      <td>-1000.0</td>\n",
       "      <td>-1.4</td>\n",
       "      <td>-180.0</td>\n",
       "    </tr>\n",
       "    <tr>\n",
       "      <th>1</th>\n",
       "      <td>1500</td>\n",
       "      <td>3</td>\n",
       "      <td>400</td>\n",
       "      <td>-500.0</td>\n",
       "      <td>-0.4</td>\n",
       "      <td>-30.0</td>\n",
       "    </tr>\n",
       "    <tr>\n",
       "      <th>2</th>\n",
       "      <td>2000</td>\n",
       "      <td>4</td>\n",
       "      <td>450</td>\n",
       "      <td>0.0</td>\n",
       "      <td>0.6</td>\n",
       "      <td>20.0</td>\n",
       "    </tr>\n",
       "    <tr>\n",
       "      <th>3</th>\n",
       "      <td>2500</td>\n",
       "      <td>3</td>\n",
       "      <td>500</td>\n",
       "      <td>500.0</td>\n",
       "      <td>-0.4</td>\n",
       "      <td>70.0</td>\n",
       "    </tr>\n",
       "    <tr>\n",
       "      <th>4</th>\n",
       "      <td>3000</td>\n",
       "      <td>5</td>\n",
       "      <td>550</td>\n",
       "      <td>1000.0</td>\n",
       "      <td>1.6</td>\n",
       "      <td>120.0</td>\n",
       "    </tr>\n",
       "  </tbody>\n",
       "</table>\n",
       "</div>"
      ],
      "text/plain": [
       "   x1_area  x2_bedrooms  y_price  x1_prime  x2_prime  y_prime\n",
       "0     1000            2      250   -1000.0      -1.4   -180.0\n",
       "1     1500            3      400    -500.0      -0.4    -30.0\n",
       "2     2000            4      450       0.0       0.6     20.0\n",
       "3     2500            3      500     500.0      -0.4     70.0\n",
       "4     3000            5      550    1000.0       1.6    120.0"
      ]
     },
     "execution_count": 9,
     "metadata": {},
     "output_type": "execute_result"
    }
   ],
   "source": [
    "df['x1_prime'] = x1 - x1_bar\n",
    "df['x2_prime'] = x2 - x2_bar\n",
    "df['y_prime'] = y - y_bar\n",
    "\n",
    "df[['x1_area','x2_bedrooms','y_price','x1_prime','x2_prime','y_prime']]"
   ]
  },
  {
   "cell_type": "markdown",
   "id": "1005c8ad",
   "metadata": {},
   "source": [
    "## Step 3 — Cross-products (row-wise) and totals\n",
    "\n",
    "Compute the row-wise columns:\n",
    "$$(x'_{1i})^2,\\quad (x'_{2i})^2,\\quad x'_{1i}x'_{2i},\\quad x'_{1i}y'_i,\\quad x'_{2i}y'_i$$\n",
    "\n",
    "Then compute the sums (needed for normal equations):\n",
    "$$S_{x_1x_1}=\\sum (x'_{1i})^2,\\ S_{x_2x_2}=\\sum (x'_{2i})^2,\\ S_{x_1x_2}=\\sum x'_{1i}x'_{2i},\\ S_{x_1y}=\\sum x'_{1i}y'_i,\\ S_{x_2y}=\\sum x'_{2i}y'_i$$"
   ]
  },
  {
   "cell_type": "code",
   "execution_count": 11,
   "id": "85ac7f73",
   "metadata": {},
   "outputs": [
    {
     "data": {
      "text/html": [
       "<div>\n",
       "<style scoped>\n",
       "    .dataframe tbody tr th:only-of-type {\n",
       "        vertical-align: middle;\n",
       "    }\n",
       "\n",
       "    .dataframe tbody tr th {\n",
       "        vertical-align: top;\n",
       "    }\n",
       "\n",
       "    .dataframe thead th {\n",
       "        text-align: right;\n",
       "    }\n",
       "</style>\n",
       "<table border=\"1\" class=\"dataframe\">\n",
       "  <thead>\n",
       "    <tr style=\"text-align: right;\">\n",
       "      <th></th>\n",
       "      <th>x1_prime</th>\n",
       "      <th>x2_prime</th>\n",
       "      <th>y_prime</th>\n",
       "      <th>x1p_sq</th>\n",
       "      <th>x2p_sq</th>\n",
       "      <th>x1px2p</th>\n",
       "      <th>x1py</th>\n",
       "      <th>x2py</th>\n",
       "    </tr>\n",
       "  </thead>\n",
       "  <tbody>\n",
       "    <tr>\n",
       "      <th>0</th>\n",
       "      <td>-1000.0</td>\n",
       "      <td>-1.4</td>\n",
       "      <td>-180.0</td>\n",
       "      <td>1000000.0</td>\n",
       "      <td>1.96</td>\n",
       "      <td>1400.0</td>\n",
       "      <td>180000.0</td>\n",
       "      <td>252.0</td>\n",
       "    </tr>\n",
       "    <tr>\n",
       "      <th>1</th>\n",
       "      <td>-500.0</td>\n",
       "      <td>-0.4</td>\n",
       "      <td>-30.0</td>\n",
       "      <td>250000.0</td>\n",
       "      <td>0.16</td>\n",
       "      <td>200.0</td>\n",
       "      <td>15000.0</td>\n",
       "      <td>12.0</td>\n",
       "    </tr>\n",
       "    <tr>\n",
       "      <th>2</th>\n",
       "      <td>0.0</td>\n",
       "      <td>0.6</td>\n",
       "      <td>20.0</td>\n",
       "      <td>0.0</td>\n",
       "      <td>0.36</td>\n",
       "      <td>0.0</td>\n",
       "      <td>0.0</td>\n",
       "      <td>12.0</td>\n",
       "    </tr>\n",
       "    <tr>\n",
       "      <th>3</th>\n",
       "      <td>500.0</td>\n",
       "      <td>-0.4</td>\n",
       "      <td>70.0</td>\n",
       "      <td>250000.0</td>\n",
       "      <td>0.16</td>\n",
       "      <td>-200.0</td>\n",
       "      <td>35000.0</td>\n",
       "      <td>-28.0</td>\n",
       "    </tr>\n",
       "    <tr>\n",
       "      <th>4</th>\n",
       "      <td>1000.0</td>\n",
       "      <td>1.6</td>\n",
       "      <td>120.0</td>\n",
       "      <td>1000000.0</td>\n",
       "      <td>2.56</td>\n",
       "      <td>1600.0</td>\n",
       "      <td>120000.0</td>\n",
       "      <td>192.0</td>\n",
       "    </tr>\n",
       "  </tbody>\n",
       "</table>\n",
       "</div>"
      ],
      "text/plain": [
       "   x1_prime  x2_prime  y_prime     x1p_sq  x2p_sq  x1px2p      x1py   x2py\n",
       "0   -1000.0      -1.4   -180.0  1000000.0    1.96  1400.0  180000.0  252.0\n",
       "1    -500.0      -0.4    -30.0   250000.0    0.16   200.0   15000.0   12.0\n",
       "2       0.0       0.6     20.0        0.0    0.36     0.0       0.0   12.0\n",
       "3     500.0      -0.4     70.0   250000.0    0.16  -200.0   35000.0  -28.0\n",
       "4    1000.0       1.6    120.0  1000000.0    2.56  1600.0  120000.0  192.0"
      ]
     },
     "execution_count": 11,
     "metadata": {},
     "output_type": "execute_result"
    }
   ],
   "source": [
    "df['x1p_sq'] = df['x1_prime']**2\n",
    "df['x2p_sq'] = df['x2_prime']**2\n",
    "df['x1px2p'] = df['x1_prime']*df['x2_prime']\n",
    "df['x1py'] = df['x1_prime']*df['y_prime']\n",
    "df['x2py'] = df['x2_prime']*df['y_prime']\n",
    "\n",
    "cols = ['x1_prime','x2_prime','y_prime','x1p_sq','x2p_sq','x1px2p','x1py','x2py']\n",
    "df[cols]"
   ]
  },
  {
   "cell_type": "code",
   "execution_count": 12,
   "id": "3bcd7675",
   "metadata": {},
   "outputs": [
    {
     "data": {
      "text/html": [
       "<div>\n",
       "<style scoped>\n",
       "    .dataframe tbody tr th:only-of-type {\n",
       "        vertical-align: middle;\n",
       "    }\n",
       "\n",
       "    .dataframe tbody tr th {\n",
       "        vertical-align: top;\n",
       "    }\n",
       "\n",
       "    .dataframe thead th {\n",
       "        text-align: right;\n",
       "    }\n",
       "</style>\n",
       "<table border=\"1\" class=\"dataframe\">\n",
       "  <thead>\n",
       "    <tr style=\"text-align: right;\">\n",
       "      <th></th>\n",
       "      <th>S_x1x1</th>\n",
       "      <th>S_x2x2</th>\n",
       "      <th>S_x1x2</th>\n",
       "      <th>S_x1y</th>\n",
       "      <th>S_x2y</th>\n",
       "    </tr>\n",
       "  </thead>\n",
       "  <tbody>\n",
       "    <tr>\n",
       "      <th>0</th>\n",
       "      <td>2500000.0</td>\n",
       "      <td>5.2</td>\n",
       "      <td>3000.0</td>\n",
       "      <td>350000.0</td>\n",
       "      <td>440.0</td>\n",
       "    </tr>\n",
       "  </tbody>\n",
       "</table>\n",
       "</div>"
      ],
      "text/plain": [
       "      S_x1x1  S_x2x2  S_x1x2     S_x1y  S_x2y\n",
       "0  2500000.0     5.2  3000.0  350000.0  440.0"
      ]
     },
     "execution_count": 12,
     "metadata": {},
     "output_type": "execute_result"
    }
   ],
   "source": [
    "S_x1x1 = df['x1p_sq'].sum()\n",
    "S_x2x2 = df['x2p_sq'].sum()\n",
    "S_x1x2 = df['x1px2p'].sum()\n",
    "S_x1y = df['x1py'].sum()\n",
    "S_x2y = df['x2py'].sum()\n",
    "\n",
    "pd.DataFrame({\n",
    "    'S_x1x1':[S_x1x1],\n",
    "    'S_x2x2':[S_x2x2],\n",
    "    'S_x1x2':[S_x1x2],\n",
    "    'S_x1y':[S_x1y],\n",
    "    'S_x2y':[S_x2y]\n",
    "})"
   ]
  },
  {
   "cell_type": "markdown",
   "id": "56344910",
   "metadata": {},
   "source": [
    "## Step 4 — Normal equations (centered form)\n",
    "\n",
    "Write the centered normal equations (for slopes):\n",
    "$$S_{x_1x_1}b_1 + S_{x_1x_2}b_2 = S_{x_1y}$$\n",
    "$$S_{x_1x_2}b_1 + S_{x_2x_2}b_2 = S_{x_2y}$$"
   ]
  },
  {
   "cell_type": "code",
   "execution_count": 19,
   "id": "f43578d5",
   "metadata": {},
   "outputs": [
    {
     "data": {
      "text/plain": [
       "(0.12500000000000003, 12.499999999999982)"
      ]
     },
     "execution_count": 19,
     "metadata": {},
     "output_type": "execute_result"
    }
   ],
   "source": [
    "A = np.array([[S_x1x1, S_x1x2],[S_x1x2, S_x2x2]])\n",
    "b_vec = np.array([S_x1y, S_x2y])\n",
    "b1, b2 = np.linalg.solve(A, b_vec)\n",
    "b1, b2"
   ]
  },
  {
   "cell_type": "markdown",
   "id": "6a8e7d72",
   "metadata": {},
   "source": [
    "## Step 5 — Intercept\n",
    "\n",
    "Compute intercept using means:\n",
    "$$b_0 = \\bar{y} - b_1\\bar{x}_1 - b_2\\bar{x}_2$$"
   ]
  },
  {
   "cell_type": "code",
   "execution_count": 22,
   "id": "0a452866",
   "metadata": {},
   "outputs": [
    {
     "data": {
      "text/plain": [
       "137.5"
      ]
     },
     "execution_count": 22,
     "metadata": {},
     "output_type": "execute_result"
    }
   ],
   "source": [
    "b0 = y_bar - b1*x1_bar - b2*x2_bar\n",
    "b0"
   ]
  },
  {
   "cell_type": "markdown",
   "id": "54793b08",
   "metadata": {},
   "source": [
    "## Final regression equation\n",
    "$$\\hat{y} = b_0 + b_1 x_1 + b_2 x_2$$"
   ]
  },
  {
   "cell_type": "code",
   "execution_count": 25,
   "id": "2c31073b",
   "metadata": {},
   "outputs": [
    {
     "name": "stdout",
     "output_type": "stream",
     "text": [
      "Manual model: y = 137.500000 + 0.125000*x1 + 12.500000*x2\n"
     ]
    }
   ],
   "source": [
    "print(f\"Manual model: y = {b0:.6f} + {b1:.6f}*x1 + {b2:.6f}*x2\")"
   ]
  },
  {
   "cell_type": "markdown",
   "id": "dd1997de",
   "metadata": {},
   "source": [
    "## 3. Prediction example\n",
    "Predict for a house with $x_1=2200$ and $x_2=4$."
   ]
  },
  {
   "cell_type": "code",
   "execution_count": 28,
   "id": "a60cbad5",
   "metadata": {},
   "outputs": [
    {
     "data": {
      "text/plain": [
       "462.5"
      ]
     },
     "execution_count": 28,
     "metadata": {},
     "output_type": "execute_result"
    }
   ],
   "source": [
    "def predict_manual(x1_val, x2_val):\n",
    "    return b0 + b1*x1_val + b2*x2_val\n",
    "\n",
    "predict_manual(2200, 4)"
   ]
  },
  {
   "cell_type": "markdown",
   "id": "b311b389",
   "metadata": {},
   "source": [
    "## 4. Validation — matrix formula (NumPy)\n",
    "$$\\beta = (X^TX)^{-1}X^Ty$$"
   ]
  },
  {
   "cell_type": "code",
   "execution_count": 31,
   "id": "109606d4",
   "metadata": {},
   "outputs": [
    {
     "data": {
      "text/plain": [
       "array([1.375e+02, 1.250e-01, 1.250e+01])"
      ]
     },
     "execution_count": 31,
     "metadata": {},
     "output_type": "execute_result"
    }
   ],
   "source": [
    "X = np.column_stack((np.ones(len(x1)), x1, x2))\n",
    "theta_hat = np.linalg.inv(X.T.dot(X)).dot(X.T).dot(y)\n",
    "theta_hat  # [b0, b1, b2]"
   ]
  },
  {
   "cell_type": "markdown",
   "id": "fb15a544",
   "metadata": {},
   "source": [
    "## Validation — scikit-learn\n",
    "Fit `LinearRegression` and show intercept & coefficients."
   ]
  },
  {
   "cell_type": "code",
   "execution_count": 34,
   "id": "55da9296",
   "metadata": {},
   "outputs": [
    {
     "name": "stdout",
     "output_type": "stream",
     "text": [
      "sklearn intercept = 137.49999999999983\n",
      "sklearn coef (b1,b2) = [ 0.125 12.5  ]\n"
     ]
    }
   ],
   "source": [
    "model = LinearRegression()\n",
    "model.fit(df[['x1_area','x2_bedrooms']], df['y_price'])\n",
    "print('sklearn intercept =', model.intercept_)\n",
    "print('sklearn coef (b1,b2) =', model.coef_)"
   ]
  },
  {
   "cell_type": "markdown",
   "id": "bd860131",
   "metadata": {},
   "source": [
    "## 5. Error metrics — Manual model\n",
    "Compute RSS, MSE, RMSE, R² for manual predictions."
   ]
  },
  {
   "cell_type": "code",
   "execution_count": 37,
   "id": "3114c73c",
   "metadata": {},
   "outputs": [
    {
     "name": "stdout",
     "output_type": "stream",
     "text": [
      "Manual model metrics:\n",
      "RSS = 3749.9999999999945\n",
      "MSE = 749.9999999999989\n",
      "RMSE = 27.386127875258286\n",
      "R2 = 0.929245283018868\n"
     ]
    }
   ],
   "source": [
    "y_pred_manual = predict_manual(x1, x2)\n",
    "resid_manual = y - y_pred_manual\n",
    "RSS_manual = np.sum(resid_manual**2)\n",
    "MSE_manual = mean_squared_error(y, y_pred_manual)\n",
    "RMSE_manual = np.sqrt(MSE_manual)\n",
    "R2_manual = r2_score(y, y_pred_manual)\n",
    "\n",
    "print('Manual model metrics:')\n",
    "print('RSS =', RSS_manual)\n",
    "print('MSE =', MSE_manual)\n",
    "print('RMSE =', RMSE_manual)\n",
    "print('R2 =', R2_manual)"
   ]
  },
  {
   "cell_type": "markdown",
   "id": "bf8b37d8",
   "metadata": {},
   "source": [
    "## Error metrics — scikit-learn model\n",
    "Compute metrics for sklearn predictions."
   ]
  },
  {
   "cell_type": "code",
   "execution_count": 40,
   "id": "1b1202a2",
   "metadata": {},
   "outputs": [
    {
     "name": "stdout",
     "output_type": "stream",
     "text": [
      "Sklearn model metrics:\n",
      "RSS = 3749.9999999999945\n",
      "MSE = 749.9999999999989\n",
      "RMSE = 27.386127875258286\n",
      "R2 = 0.929245283018868\n"
     ]
    }
   ],
   "source": [
    "y_pred_sklearn = model.predict(df[['x1_area','x2_bedrooms']])\n",
    "resid_sklearn = y - y_pred_sklearn\n",
    "RSS_sklearn = np.sum(resid_sklearn**2)\n",
    "MSE_sklearn = mean_squared_error(y, y_pred_sklearn)\n",
    "RMSE_sklearn = np.sqrt(MSE_sklearn)\n",
    "R2_sklearn = r2_score(y, y_pred_sklearn)\n",
    "\n",
    "print('Sklearn model metrics:')\n",
    "print('RSS =', RSS_sklearn)\n",
    "print('MSE =', MSE_sklearn)\n",
    "print('RMSE =', RMSE_sklearn)\n",
    "print('R2 =', R2_sklearn)"
   ]
  },
  {
   "cell_type": "markdown",
   "id": "2af6fa02",
   "metadata": {},
   "source": [
    "## 6. Final comparison (Manual vs sklearn)\n",
    "Pandas DataFrame comparing coefficients and metrics."
   ]
  },
  {
   "cell_type": "code",
   "execution_count": 43,
   "id": "4f106f34",
   "metadata": {},
   "outputs": [
    {
     "data": {
      "text/html": [
       "<div>\n",
       "<style scoped>\n",
       "    .dataframe tbody tr th:only-of-type {\n",
       "        vertical-align: middle;\n",
       "    }\n",
       "\n",
       "    .dataframe tbody tr th {\n",
       "        vertical-align: top;\n",
       "    }\n",
       "\n",
       "    .dataframe thead th {\n",
       "        text-align: right;\n",
       "    }\n",
       "</style>\n",
       "<table border=\"1\" class=\"dataframe\">\n",
       "  <thead>\n",
       "    <tr style=\"text-align: right;\">\n",
       "      <th></th>\n",
       "      <th>b0</th>\n",
       "      <th>b1</th>\n",
       "      <th>b2</th>\n",
       "      <th>RSS</th>\n",
       "      <th>MSE</th>\n",
       "      <th>RMSE</th>\n",
       "      <th>R2</th>\n",
       "    </tr>\n",
       "  </thead>\n",
       "  <tbody>\n",
       "    <tr>\n",
       "      <th>manual</th>\n",
       "      <td>137.5</td>\n",
       "      <td>0.125</td>\n",
       "      <td>12.5</td>\n",
       "      <td>3750.0</td>\n",
       "      <td>750.0</td>\n",
       "      <td>27.386128</td>\n",
       "      <td>0.929245</td>\n",
       "    </tr>\n",
       "    <tr>\n",
       "      <th>sklearn</th>\n",
       "      <td>137.5</td>\n",
       "      <td>0.125</td>\n",
       "      <td>12.5</td>\n",
       "      <td>3750.0</td>\n",
       "      <td>750.0</td>\n",
       "      <td>27.386128</td>\n",
       "      <td>0.929245</td>\n",
       "    </tr>\n",
       "  </tbody>\n",
       "</table>\n",
       "</div>"
      ],
      "text/plain": [
       "            b0     b1    b2     RSS    MSE       RMSE        R2\n",
       "manual   137.5  0.125  12.5  3750.0  750.0  27.386128  0.929245\n",
       "sklearn  137.5  0.125  12.5  3750.0  750.0  27.386128  0.929245"
      ]
     },
     "execution_count": 43,
     "metadata": {},
     "output_type": "execute_result"
    }
   ],
   "source": [
    "manual_row = {\n",
    "    'b0': b0,\n",
    "    'b1': b1,\n",
    "    'b2': b2,\n",
    "    'RSS': RSS_manual,\n",
    "    'MSE': MSE_manual,\n",
    "    'RMSE': RMSE_manual,\n",
    "    'R2': R2_manual\n",
    "}\n",
    "sk_row = {\n",
    "    'b0': model.intercept_,\n",
    "    'b1': model.coef_[0],\n",
    "    'b2': model.coef_[1],\n",
    "    'RSS': RSS_sklearn,\n",
    "    'MSE': MSE_sklearn,\n",
    "    'RMSE': RMSE_sklearn,\n",
    "    'R2': R2_sklearn\n",
    "}\n",
    "compare_df = pd.DataFrame([manual_row, sk_row], index=['manual','sklearn'])\n",
    "compare_df.round(6)"
   ]
  },
  {
   "cell_type": "code",
   "execution_count": null,
   "id": "05063d2b-2e3f-4ad2-ad68-74eb34d4273d",
   "metadata": {},
   "outputs": [],
   "source": []
  }
 ],
 "metadata": {
  "kernelspec": {
   "display_name": "Python 3 (ipykernel)",
   "language": "python",
   "name": "python3"
  },
  "language_info": {
   "codemirror_mode": {
    "name": "ipython",
    "version": 3
   },
   "file_extension": ".py",
   "mimetype": "text/x-python",
   "name": "python",
   "nbconvert_exporter": "python",
   "pygments_lexer": "ipython3",
   "version": "3.10.14"
  }
 },
 "nbformat": 4,
 "nbformat_minor": 5
}
